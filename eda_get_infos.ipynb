{
 "cells": [
  {
   "cell_type": "markdown",
   "metadata": {},
   "source": [
    "<br>\n",
    "\n",
    "# Introdução"
   ]
  },
  {
   "cell_type": "code",
   "execution_count": 1,
   "metadata": {},
   "outputs": [],
   "source": [
    "import os\n",
    "import re\n",
    "import time\n",
    "import random\n",
    "import requests\n",
    "import numpy as np\n",
    "import pandas as pd\n",
    "import geopandas as gpd\n",
    "\n",
    "from bs4 import BeautifulSoup\n",
    "from osgeo import gdal, osr\n",
    "from tqdm.notebook import trange, tqdm"
   ]
  },
  {
   "cell_type": "markdown",
   "metadata": {},
   "source": [
    "<br>\n",
    "\n",
    "# Get List Links"
   ]
  },
  {
   "cell_type": "code",
   "execution_count": 2,
   "metadata": {},
   "outputs": [],
   "source": [
    "# Get Data\n",
    "url = 'https://www.defesa.agricultura.sp.gov.br/enderecos/'\n",
    "r = requests.get(url)\n",
    "soup = BeautifulSoup(r.content, 'html.parser')\n",
    "soup = soup.find('select',  attrs={'id':'local_mun'})\n",
    "rows = soup.find_all('option')"
   ]
  },
  {
   "cell_type": "code",
   "execution_count": 3,
   "metadata": {
    "tags": []
   },
   "outputs": [],
   "source": [
    "# Listas Vazias\n",
    "list_url = []\n",
    "list_name = []\n",
    "\n",
    "# Append as Listas\n",
    "for row in rows:    \n",
    "    list_name.append(row.get_text())\n",
    "    list_url.append(row['value'])\n",
    "\n",
    "# Lista de Tuplas\n",
    "list_tuples = list(zip(list_name, list_url))[1:]"
   ]
  },
  {
   "cell_type": "code",
   "execution_count": 4,
   "metadata": {},
   "outputs": [
    {
     "data": {
      "text/html": [
       "<div>\n",
       "<style scoped>\n",
       "    .dataframe tbody tr th:only-of-type {\n",
       "        vertical-align: middle;\n",
       "    }\n",
       "\n",
       "    .dataframe tbody tr th {\n",
       "        vertical-align: top;\n",
       "    }\n",
       "\n",
       "    .dataframe thead th {\n",
       "        text-align: right;\n",
       "    }\n",
       "</style>\n",
       "<table border=\"1\" class=\"dataframe\">\n",
       "  <thead>\n",
       "    <tr style=\"text-align: right;\">\n",
       "      <th></th>\n",
       "      <th>municipio</th>\n",
       "      <th>url</th>\n",
       "    </tr>\n",
       "  </thead>\n",
       "  <tbody>\n",
       "    <tr>\n",
       "      <th>0</th>\n",
       "      <td>Adamantina</td>\n",
       "      <td>https://www.defesa.agricultura.sp.gov.br/ender...</td>\n",
       "    </tr>\n",
       "    <tr>\n",
       "      <th>1</th>\n",
       "      <td>Adolfo</td>\n",
       "      <td>https://www.defesa.agricultura.sp.gov.br/ender...</td>\n",
       "    </tr>\n",
       "    <tr>\n",
       "      <th>2</th>\n",
       "      <td>Aguaí</td>\n",
       "      <td>https://www.defesa.agricultura.sp.gov.br/ender...</td>\n",
       "    </tr>\n",
       "    <tr>\n",
       "      <th>3</th>\n",
       "      <td>Águas da Prata</td>\n",
       "      <td>https://www.defesa.agricultura.sp.gov.br/ender...</td>\n",
       "    </tr>\n",
       "    <tr>\n",
       "      <th>4</th>\n",
       "      <td>Águas de Lindóia</td>\n",
       "      <td>https://www.defesa.agricultura.sp.gov.br/ender...</td>\n",
       "    </tr>\n",
       "    <tr>\n",
       "      <th>...</th>\n",
       "      <td>...</td>\n",
       "      <td>...</td>\n",
       "    </tr>\n",
       "    <tr>\n",
       "      <th>640</th>\n",
       "      <td>Vista Alegre do Alto</td>\n",
       "      <td>https://www.defesa.agricultura.sp.gov.br/ender...</td>\n",
       "    </tr>\n",
       "    <tr>\n",
       "      <th>641</th>\n",
       "      <td>Vitória Brasil</td>\n",
       "      <td>https://www.defesa.agricultura.sp.gov.br/ender...</td>\n",
       "    </tr>\n",
       "    <tr>\n",
       "      <th>642</th>\n",
       "      <td>Votorantim</td>\n",
       "      <td>https://www.defesa.agricultura.sp.gov.br/ender...</td>\n",
       "    </tr>\n",
       "    <tr>\n",
       "      <th>643</th>\n",
       "      <td>Votuporanga</td>\n",
       "      <td>https://www.defesa.agricultura.sp.gov.br/ender...</td>\n",
       "    </tr>\n",
       "    <tr>\n",
       "      <th>644</th>\n",
       "      <td>Zacarias</td>\n",
       "      <td>https://www.defesa.agricultura.sp.gov.br/ender...</td>\n",
       "    </tr>\n",
       "  </tbody>\n",
       "</table>\n",
       "<p>645 rows × 2 columns</p>\n",
       "</div>"
      ],
      "text/plain": [
       "                municipio                                                url\n",
       "0              Adamantina  https://www.defesa.agricultura.sp.gov.br/ender...\n",
       "1                  Adolfo  https://www.defesa.agricultura.sp.gov.br/ender...\n",
       "2                   Aguaí  https://www.defesa.agricultura.sp.gov.br/ender...\n",
       "3          Águas da Prata  https://www.defesa.agricultura.sp.gov.br/ender...\n",
       "4        Águas de Lindóia  https://www.defesa.agricultura.sp.gov.br/ender...\n",
       "..                    ...                                                ...\n",
       "640  Vista Alegre do Alto  https://www.defesa.agricultura.sp.gov.br/ender...\n",
       "641        Vitória Brasil  https://www.defesa.agricultura.sp.gov.br/ender...\n",
       "642            Votorantim  https://www.defesa.agricultura.sp.gov.br/ender...\n",
       "643           Votuporanga  https://www.defesa.agricultura.sp.gov.br/ender...\n",
       "644              Zacarias  https://www.defesa.agricultura.sp.gov.br/ender...\n",
       "\n",
       "[645 rows x 2 columns]"
      ]
     },
     "execution_count": 4,
     "metadata": {},
     "output_type": "execute_result"
    }
   ],
   "source": [
    "# Convert to Dataframe\n",
    "df = pd.DataFrame(list_tuples, columns = ['municipio', 'url'])\n",
    "df['url'] = url + df['url'] + '/'\n",
    "\n",
    "# \n",
    "list_df_urls = df.iterrows()\n",
    "df"
   ]
  },
  {
   "cell_type": "markdown",
   "metadata": {},
   "source": [
    "<br>\n",
    "\n",
    "# Get Data for Município"
   ]
  },
  {
   "cell_type": "markdown",
   "metadata": {},
   "source": [
    "<br>\n",
    "\n",
    "## Function"
   ]
  },
  {
   "cell_type": "code",
   "execution_count": 5,
   "metadata": {},
   "outputs": [],
   "source": [
    "def get_data(municipio, url):\n",
    "    # Get Data\n",
    "    #url = 'https://www.defesa.agricultura.sp.gov.br/enderecos/motuca'\n",
    "    r = requests.get(url)\n",
    "    soup = BeautifulSoup(r.content, 'lxml')\n",
    "    soup = soup.find('form',  attrs={'name':'form2'}).find_next_sibling('div')\n",
    "\n",
    "    # List\n",
    "    list_data = soup.find('p').get_text().split('\\n')\n",
    "    dict_data = {\n",
    "        'municipio_nome': municipio,\n",
    "        'ida': soup.find('h2').text,\n",
    "        'endereco': ([x for x in list_data if x.startswith('Endereço:')] or [''])[0],\n",
    "        'municipio_sede': ([x for x in list_data if x.startswith('Município:')] or [''])[0],\n",
    "        'telefone': ([x for x in list_data if x.startswith('Telefone:')] or [''])[0],\n",
    "        'fax': ([x for x in list_data if x.startswith('Fax:')] or [''])[0],\n",
    "        'email': ([x for x in list_data if x.startswith('E-mail:')] or [''])[0],\n",
    "        'unidaderegional': ([x for x in list_data if x.startswith('Unidade Regional:')] or [''])[0],\n",
    "        'diretor': ([x for x in list_data if x.startswith('Diretor:')] or [''])[0].replace('\\r', ''),\n",
    "        'url': url,\n",
    "    }\n",
    "\n",
    "    return dict_data"
   ]
  },
  {
   "cell_type": "code",
   "execution_count": 6,
   "metadata": {},
   "outputs": [
    {
     "data": {
      "text/plain": [
       "{'municipio_nome': 'Mombuca',\n",
       " 'ida': 'Inspetoria de Defesa Agropecuária de Socorro',\n",
       " 'endereco': 'Endereço: Av. Dr. Rebouças, 116 - CEP: 13960000 ',\n",
       " 'municipio_sede': 'Município: Socorro/SP',\n",
       " 'telefone': 'Telefone: (19) 3855-2011',\n",
       " 'fax': '',\n",
       " 'email': 'E-mail: ida.socorro@cda.sp.gov.br',\n",
       " 'unidaderegional': 'Unidade Regional: EDA de Bragança Paulista',\n",
       " 'diretor': 'Diretor: Eng. Agr. RogÉrio MarÇal Rocha Oliveira',\n",
       " 'url': 'https://www.defesa.agricultura.sp.gov.br/enderecos/pedra-bela/'}"
      ]
     },
     "execution_count": 6,
     "metadata": {},
     "output_type": "execute_result"
    }
   ],
   "source": [
    "url = 'https://www.defesa.agricultura.sp.gov.br/enderecos/pedra-bela/'\n",
    "get_data('Mombuca', url)"
   ]
  },
  {
   "cell_type": "markdown",
   "metadata": {},
   "source": [
    "<br>\n",
    "\n",
    "## Loop"
   ]
  },
  {
   "cell_type": "code",
   "execution_count": 7,
   "metadata": {
    "tags": []
   },
   "outputs": [],
   "source": [
    "list_dicts = []\n",
    "for index, row in list_df_urls:\n",
    "    # \n",
    "    municipio = row['municipio']\n",
    "    url = row['url']\n",
    "\n",
    "    # \n",
    "    dict_temp = get_data(municipio, url)\n",
    "    list_dicts.append(dict_temp)"
   ]
  },
  {
   "cell_type": "markdown",
   "metadata": {},
   "source": [
    "<br>\n",
    "\n",
    "# Create Dataframe"
   ]
  },
  {
   "cell_type": "code",
   "execution_count": 8,
   "metadata": {},
   "outputs": [],
   "source": [
    "# Create dataframe\n",
    "df = pd.DataFrame(list_dicts)"
   ]
  },
  {
   "cell_type": "code",
   "execution_count": 9,
   "metadata": {},
   "outputs": [],
   "source": [
    "# Divide Células em Duas Colunas\n",
    "df[['endereco','cep']] = df['endereco'].str.split('- CEP:', expand=True)\n",
    "df[['municipio_sede','estado']] = df['municipio_sede'].str.split('/', expand=True)\n",
    "df[['tel_1','tel_2']] = df['telefone'].str.split('/', expand=True)\n",
    "df[['fax_1','fax_2']] = df['fax'].str.split('/', expand=True)"
   ]
  },
  {
   "cell_type": "code",
   "execution_count": 10,
   "metadata": {},
   "outputs": [],
   "source": [
    "# Remove tudo que vem antes do :\n",
    "df = df.applymap(lambda x: x.split(':')[-1], na_action='ignore')\n",
    "\n",
    "# Strip All Data\n",
    "df = df.applymap(lambda x: x.strip(), na_action='ignore')"
   ]
  },
  {
   "cell_type": "markdown",
   "metadata": {},
   "source": [
    "<br>\n",
    "\n",
    "## Rename"
   ]
  },
  {
   "cell_type": "code",
   "execution_count": 11,
   "metadata": {},
   "outputs": [],
   "source": [
    "def rename_nome(x):\n",
    "    #x = x.title()\n",
    "    x = x.strip()\n",
    "    dict_rename = {\n",
    "        # Encoding\n",
    "        '  '  : ' ',\n",
    "        \n",
    "        # Basics\n",
    "        # ' Sobre ': ' sobre ',\n",
    "        # ' Da '   : ' da ',\n",
    "        # ' De '   : ' de ',\n",
    "        # ' Do '   : ' do ',\n",
    "        # ' Das '  : ' das ',\n",
    "        # ' Dos '  : ' dos ',\n",
    "        # ' A '    : ' a ',\n",
    "        # ' As '   : ' as ',\n",
    "        # ' Ao '   : ' ao ',\n",
    "        # ' Aos '  : ' aos ',\n",
    "        # ' E '    : ' e ',\n",
    "        # ' O '    : ' o ',\n",
    "        # ' Os '   : ' os ',\n",
    "        \n",
    "        # Erros\n",
    "        '()'  : '',\n",
    "        'Av. '  : 'Avenida ',\n",
    "        'R. '  : 'Rua ',\n",
    "        \n",
    "        # Abreviações\n",
    "        'Mogi-Mirim' : 'Mogi Mirim',\n",
    "        's/nº': 's/n',\n",
    "        's/n°': 's/n',\n",
    "        's/n': 's/n',\n",
    "        'S/N' : 's/n',\n",
    "        'S/n' : 's/n',\n",
    "        's/n' : 's/n',\n",
    "        \n",
    "        ' nº ': ', ',\n",
    "        ', nº ': ', ',\n",
    "        ', ,': ',',\n",
    "        ',,': ',',\n",
    "\n",
    "        'EDA de ': 'Escritório de Defesa Agropecuária de ',\n",
    "\n",
    "        # \n",
    "        'RogÉrio': 'Rogério',\n",
    "        'JosÉ': 'José',\n",
    "        'CÉsar': 'César',\n",
    "        'MarÇal': 'Marçal',\n",
    "        'AdÃo': 'Adão',\n",
    "        'TristÃo': 'Tristão',\n",
    "        'ConceiÇÃo': 'Conceição',\n",
    "        \n",
    "        'Avednida ':'Avenida ',\n",
    "        'Av.25 de Janeiro':'Avenida 25 de Janeiro',\n",
    "        'Rua 13 de maio, 260': 'Rua 13 de Maio, 260',\n",
    "        ' Do ': ' do ',\n",
    "        'RUA FUAD EID,319': 'Rua Fuad Eid, 319',\n",
    "\n",
    "    }\n",
    "    for k, v in dict_rename.items():\n",
    "        x = x.replace(k, v)\n",
    "    x = x.replace('  ', ' ')\n",
    "    return x.strip()"
   ]
  },
  {
   "cell_type": "code",
   "execution_count": 12,
   "metadata": {},
   "outputs": [],
   "source": [
    "df.loc[:, 'ida'] = df['ida'].astype(str).apply(lambda x: rename_nome(x))\n",
    "df.loc[:, 'endereco'] = df['endereco'].astype(str).apply(lambda x: rename_nome(x))\n",
    "df.loc[:, 'municipio_sede'] = df['municipio_sede'].astype(str).apply(lambda x: rename_nome(x))\n",
    "df.loc[:, 'tel_1'] = df['tel_1'].astype(str).apply(lambda x: rename_nome(x))\n",
    "df.loc[:, 'unidaderegional'] = df['unidaderegional'].astype(str).apply(lambda x: rename_nome(x))\n",
    "df.loc[:, 'diretor'] = df['diretor'].astype(str).apply(lambda x: rename_nome(x))"
   ]
  },
  {
   "cell_type": "code",
   "execution_count": 13,
   "metadata": {},
   "outputs": [
    {
     "data": {
      "text/plain": [
       "'s/nº'"
      ]
     },
     "execution_count": 13,
     "metadata": {},
     "output_type": "execute_result"
    }
   ],
   "source": [
    "rename_nome('S/nº')"
   ]
  },
  {
   "cell_type": "code",
   "execution_count": 14,
   "metadata": {},
   "outputs": [],
   "source": [
    "# Adjust Error\n",
    "df.set_index('municipio_nome', inplace=True)\n",
    "df.loc['Pontes Gestal', 'ida'] = 'Unidade de Defesa Agropecuária de Pontes Gestal'\n",
    "df.reset_index(inplace=True)"
   ]
  },
  {
   "cell_type": "code",
   "execution_count": 15,
   "metadata": {},
   "outputs": [],
   "source": [
    "# Fix Municípios\n",
    "df['municipio_nome'] = df['municipio_nome'].replace('Embu', 'Embu das Artes').replace('Mogi-Mirim', 'Mogi Mirim')\n",
    "\n",
    "# Fix Telefone\n",
    "df['tel_1'] = df['tel_1'].replace('(11)', '').replace('(18)', '')"
   ]
  },
  {
   "cell_type": "code",
   "execution_count": 16,
   "metadata": {},
   "outputs": [],
   "source": [
    "# Preenche espaços em branco por NaN\n",
    "df.loc[:, 'unidaderegional'] = df['unidaderegional'].replace(r'^\\s*$', np.nan, regex=True)\n",
    "\n",
    "# Define máscara\n",
    "mask = df['unidaderegional'].isnull()\n",
    "\n",
    "# Para os que estão em branco, define que é igual ao ida\n",
    "df.loc[mask, 'unidaderegional'] = df['ida']"
   ]
  },
  {
   "cell_type": "code",
   "execution_count": 17,
   "metadata": {},
   "outputs": [
    {
     "data": {
      "text/html": [
       "<div>\n",
       "<style scoped>\n",
       "    .dataframe tbody tr th:only-of-type {\n",
       "        vertical-align: middle;\n",
       "    }\n",
       "\n",
       "    .dataframe tbody tr th {\n",
       "        vertical-align: top;\n",
       "    }\n",
       "\n",
       "    .dataframe thead th {\n",
       "        text-align: right;\n",
       "    }\n",
       "</style>\n",
       "<table border=\"1\" class=\"dataframe\">\n",
       "  <thead>\n",
       "    <tr style=\"text-align: right;\">\n",
       "      <th></th>\n",
       "      <th>id_municipio</th>\n",
       "      <th>municipio_nome</th>\n",
       "      <th>ida</th>\n",
       "      <th>endereco</th>\n",
       "      <th>municipio_sede</th>\n",
       "      <th>telefone</th>\n",
       "      <th>fax</th>\n",
       "      <th>email</th>\n",
       "      <th>unidaderegional</th>\n",
       "      <th>diretor</th>\n",
       "      <th>url</th>\n",
       "      <th>cep</th>\n",
       "      <th>estado</th>\n",
       "      <th>tel_1</th>\n",
       "      <th>tel_2</th>\n",
       "      <th>fax_1</th>\n",
       "      <th>fax_2</th>\n",
       "    </tr>\n",
       "  </thead>\n",
       "  <tbody>\n",
       "    <tr>\n",
       "      <th>0</th>\n",
       "      <td>3500105</td>\n",
       "      <td>Adamantina</td>\n",
       "      <td>Inspetoria de Defesa Agropecuária de Adamantina</td>\n",
       "      <td>Rua Alameda Santa Cruz, 541</td>\n",
       "      <td>Adamantina</td>\n",
       "      <td>(18)</td>\n",
       "      <td>(18) 3521-5466</td>\n",
       "      <td></td>\n",
       "      <td>Escritório de Defesa Agropecuária de Dracena</td>\n",
       "      <td>Eng. Agr. Leonardo da Cruz Oliveira Junior</td>\n",
       "      <td>//www.defesa.agricultura.sp.gov.br/enderecos/a...</td>\n",
       "      <td>17800000</td>\n",
       "      <td>SP</td>\n",
       "      <td></td>\n",
       "      <td>None</td>\n",
       "      <td>(18) 3521-5466</td>\n",
       "      <td>None</td>\n",
       "    </tr>\n",
       "    <tr>\n",
       "      <th>1</th>\n",
       "      <td>3500204</td>\n",
       "      <td>Adolfo</td>\n",
       "      <td>Inspetoria de Defesa Agropecuária de José Boni...</td>\n",
       "      <td>Rua Piratininga, 309</td>\n",
       "      <td>José Bonifácio</td>\n",
       "      <td>(17) 3245-4664/3245-1183</td>\n",
       "      <td>(17) 3245-4664/3245-1183</td>\n",
       "      <td>ida.josebonifacio@cda.sp.gov.br</td>\n",
       "      <td>Escritório de Defesa Agropecuária de São José ...</td>\n",
       "      <td>Eng. Agr. Alexandre Paloschi</td>\n",
       "      <td>//www.defesa.agricultura.sp.gov.br/enderecos/a...</td>\n",
       "      <td>15200000</td>\n",
       "      <td>SP</td>\n",
       "      <td>(17) 3245-4664</td>\n",
       "      <td>3245-1183</td>\n",
       "      <td>(17) 3245-4664</td>\n",
       "      <td>3245-1183</td>\n",
       "    </tr>\n",
       "    <tr>\n",
       "      <th>2</th>\n",
       "      <td>3500303</td>\n",
       "      <td>Aguaí</td>\n",
       "      <td>Escritório de Defesa Agropecuária de São João ...</td>\n",
       "      <td>Rua Teófilo Ribeiro de Andrade, 1060</td>\n",
       "      <td>São João da Boa Vista</td>\n",
       "      <td>(19) 3623-3612/3623-3823</td>\n",
       "      <td>(19) 3623-3612/3623-3823</td>\n",
       "      <td>eda.sjbv@sp.gov.br</td>\n",
       "      <td>Escritório de Defesa Agropecuária de São João ...</td>\n",
       "      <td>Eng. Agr. Rogério Marçal Rocha Oliveira</td>\n",
       "      <td>//www.defesa.agricultura.sp.gov.br/enderecos/a...</td>\n",
       "      <td>13870210</td>\n",
       "      <td>SP</td>\n",
       "      <td>(19) 3623-3612</td>\n",
       "      <td>3623-3823</td>\n",
       "      <td>(19) 3623-3612</td>\n",
       "      <td>3623-3823</td>\n",
       "    </tr>\n",
       "    <tr>\n",
       "      <th>3</th>\n",
       "      <td>3500402</td>\n",
       "      <td>Águas da Prata</td>\n",
       "      <td>Escritório de Defesa Agropecuária de São João ...</td>\n",
       "      <td>Rua Teófilo Ribeiro de Andrade, 1060</td>\n",
       "      <td>São João da Boa Vista</td>\n",
       "      <td>(19) 3623-3612/3623-3823</td>\n",
       "      <td>(19) 3623-3612/3623-3823</td>\n",
       "      <td>eda.sjbv@sp.gov.br</td>\n",
       "      <td>Escritório de Defesa Agropecuária de São João ...</td>\n",
       "      <td>Eng. Agr. Rogério Marçal Rocha Oliveira</td>\n",
       "      <td>//www.defesa.agricultura.sp.gov.br/enderecos/a...</td>\n",
       "      <td>13870210</td>\n",
       "      <td>SP</td>\n",
       "      <td>(19) 3623-3612</td>\n",
       "      <td>3623-3823</td>\n",
       "      <td>(19) 3623-3612</td>\n",
       "      <td>3623-3823</td>\n",
       "    </tr>\n",
       "    <tr>\n",
       "      <th>4</th>\n",
       "      <td>3500501</td>\n",
       "      <td>Águas de Lindóia</td>\n",
       "      <td>Inspetoria de Defesa Agropecuária de Socorro</td>\n",
       "      <td>Avenida Dr. Rebouças, 116</td>\n",
       "      <td>Socorro</td>\n",
       "      <td>(19) 3855-2011</td>\n",
       "      <td></td>\n",
       "      <td>ida.socorro@cda.sp.gov.br</td>\n",
       "      <td>Escritório de Defesa Agropecuária de Bragança ...</td>\n",
       "      <td>Eng. Agr. Rogério Marçal Rocha Oliveira</td>\n",
       "      <td>//www.defesa.agricultura.sp.gov.br/enderecos/a...</td>\n",
       "      <td>13960000</td>\n",
       "      <td>SP</td>\n",
       "      <td>(19) 3855-2011</td>\n",
       "      <td>None</td>\n",
       "      <td></td>\n",
       "      <td>None</td>\n",
       "    </tr>\n",
       "  </tbody>\n",
       "</table>\n",
       "</div>"
      ],
      "text/plain": [
       "   id_municipio    municipio_nome  \\\n",
       "0       3500105        Adamantina   \n",
       "1       3500204            Adolfo   \n",
       "2       3500303             Aguaí   \n",
       "3       3500402    Águas da Prata   \n",
       "4       3500501  Águas de Lindóia   \n",
       "\n",
       "                                                 ida  \\\n",
       "0    Inspetoria de Defesa Agropecuária de Adamantina   \n",
       "1  Inspetoria de Defesa Agropecuária de José Boni...   \n",
       "2  Escritório de Defesa Agropecuária de São João ...   \n",
       "3  Escritório de Defesa Agropecuária de São João ...   \n",
       "4       Inspetoria de Defesa Agropecuária de Socorro   \n",
       "\n",
       "                               endereco         municipio_sede  \\\n",
       "0           Rua Alameda Santa Cruz, 541             Adamantina   \n",
       "1                  Rua Piratininga, 309         José Bonifácio   \n",
       "2  Rua Teófilo Ribeiro de Andrade, 1060  São João da Boa Vista   \n",
       "3  Rua Teófilo Ribeiro de Andrade, 1060  São João da Boa Vista   \n",
       "4             Avenida Dr. Rebouças, 116                Socorro   \n",
       "\n",
       "                   telefone                       fax  \\\n",
       "0                      (18)            (18) 3521-5466   \n",
       "1  (17) 3245-4664/3245-1183  (17) 3245-4664/3245-1183   \n",
       "2  (19) 3623-3612/3623-3823  (19) 3623-3612/3623-3823   \n",
       "3  (19) 3623-3612/3623-3823  (19) 3623-3612/3623-3823   \n",
       "4            (19) 3855-2011                             \n",
       "\n",
       "                             email  \\\n",
       "0                                    \n",
       "1  ida.josebonifacio@cda.sp.gov.br   \n",
       "2               eda.sjbv@sp.gov.br   \n",
       "3               eda.sjbv@sp.gov.br   \n",
       "4        ida.socorro@cda.sp.gov.br   \n",
       "\n",
       "                                     unidaderegional  \\\n",
       "0       Escritório de Defesa Agropecuária de Dracena   \n",
       "1  Escritório de Defesa Agropecuária de São José ...   \n",
       "2  Escritório de Defesa Agropecuária de São João ...   \n",
       "3  Escritório de Defesa Agropecuária de São João ...   \n",
       "4  Escritório de Defesa Agropecuária de Bragança ...   \n",
       "\n",
       "                                      diretor  \\\n",
       "0  Eng. Agr. Leonardo da Cruz Oliveira Junior   \n",
       "1                Eng. Agr. Alexandre Paloschi   \n",
       "2     Eng. Agr. Rogério Marçal Rocha Oliveira   \n",
       "3     Eng. Agr. Rogério Marçal Rocha Oliveira   \n",
       "4     Eng. Agr. Rogério Marçal Rocha Oliveira   \n",
       "\n",
       "                                                 url       cep estado  \\\n",
       "0  //www.defesa.agricultura.sp.gov.br/enderecos/a...  17800000     SP   \n",
       "1  //www.defesa.agricultura.sp.gov.br/enderecos/a...  15200000     SP   \n",
       "2  //www.defesa.agricultura.sp.gov.br/enderecos/a...  13870210     SP   \n",
       "3  //www.defesa.agricultura.sp.gov.br/enderecos/a...  13870210     SP   \n",
       "4  //www.defesa.agricultura.sp.gov.br/enderecos/a...  13960000     SP   \n",
       "\n",
       "            tel_1      tel_2           fax_1      fax_2  \n",
       "0                       None  (18) 3521-5466       None  \n",
       "1  (17) 3245-4664  3245-1183  (17) 3245-4664  3245-1183  \n",
       "2  (19) 3623-3612  3623-3823  (19) 3623-3612  3623-3823  \n",
       "3  (19) 3623-3612  3623-3823  (19) 3623-3612  3623-3823  \n",
       "4  (19) 3855-2011       None                       None  "
      ]
     },
     "execution_count": 17,
     "metadata": {},
     "output_type": "execute_result"
    }
   ],
   "source": [
    "# Lê o arquivo csv com o nome dos municípios\n",
    "df_mun = pd.read_csv(\n",
    "    'https://raw.githubusercontent.com/michelmetran/sp/main/data/tabs/tab_municipio_nome.csv',\n",
    "    usecols=['id_municipio', 'municipio_nome']\n",
    ")\n",
    "\n",
    "# Merge\n",
    "df = pd.merge(\n",
    "    df_mun,\n",
    "    df,\n",
    "    how='left',\n",
    "    left_on='municipio_nome',\n",
    "    right_on='municipio_nome'\n",
    ")\n",
    "\n",
    "# Resultados\n",
    "df.head()"
   ]
  },
  {
   "cell_type": "markdown",
   "metadata": {},
   "source": [
    "<br>\n",
    "\n",
    "## Ordena Colunas"
   ]
  },
  {
   "cell_type": "code",
   "execution_count": 18,
   "metadata": {},
   "outputs": [
    {
     "name": "stdout",
     "output_type": "stream",
     "text": [
      "['id_municipio', 'municipio_nome', 'ida', 'endereco', 'municipio_sede', 'telefone', 'fax', 'email', 'unidaderegional', 'diretor', 'url', 'cep', 'estado', 'tel_1', 'tel_2', 'fax_1', 'fax_2']\n"
     ]
    }
   ],
   "source": [
    "print(list(df.columns))\n",
    "\n",
    "df = df[[\n",
    "    'id_municipio',\n",
    "    'municipio_nome',\n",
    "    'ida',\n",
    "    'endereco',\n",
    "    'cep',\n",
    "    'municipio_sede',\n",
    "    'tel_1',\n",
    "    'tel_2',\n",
    "    'fax_1',\n",
    "    'fax_2',\n",
    "    'email',\n",
    "    'unidaderegional',\n",
    "    'diretor',\n",
    "    'url',\n",
    "]]"
   ]
  },
  {
   "cell_type": "markdown",
   "metadata": {},
   "source": [
    "<br>\n",
    "\n",
    "# Salva"
   ]
  },
  {
   "cell_type": "code",
   "execution_count": 19,
   "metadata": {},
   "outputs": [],
   "source": [
    "# Results\n",
    "df.to_csv(\n",
    "    os.path.join('data', 'tabs', 'tab_municipio_eda.csv'),\n",
    "    index=False\n",
    ")"
   ]
  }
 ],
 "metadata": {
  "kernelspec": {
   "display_name": "Python [conda env:pablocarreira-py38] *",
   "language": "python",
   "name": "conda-env-pablocarreira-py38-py"
  },
  "language_info": {
   "codemirror_mode": {
    "name": "ipython",
    "version": 3
   },
   "file_extension": ".py",
   "mimetype": "text/x-python",
   "name": "python",
   "nbconvert_exporter": "python",
   "pygments_lexer": "ipython3",
   "version": "3.8.8"
  }
 },
 "nbformat": 4,
 "nbformat_minor": 4
}
