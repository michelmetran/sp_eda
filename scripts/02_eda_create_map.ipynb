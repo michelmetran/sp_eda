{
 "cells": [
  {
   "cell_type": "markdown",
   "id": "049a5ae5",
   "metadata": {},
   "source": [
    "<br>\n",
    "\n",
    "# Introdução"
   ]
  },
  {
   "cell_type": "code",
   "execution_count": null,
   "id": "22ccbdae",
   "metadata": {},
   "outputs": [],
   "source": [
    "import json\n",
    "import os\n",
    "import random\n",
    "import re\n",
    "import time\n",
    "\n",
    "import folium\n",
    "import geopandas as gpd\n",
    "import numpy as np\n",
    "import pandas as pd\n",
    "import requests\n",
    "import seaborn as sns\n",
    "from bs4 import BeautifulSoup\n",
    "from folium import plugins\n",
    "from osgeo import gdal, osr\n",
    "from tqdm.notebook import tqdm, trange"
   ]
  },
  {
   "cell_type": "markdown",
   "id": "8162b767",
   "metadata": {},
   "source": [
    "<br>\n",
    "\n",
    "# Join Data"
   ]
  },
  {
   "cell_type": "code",
   "execution_count": null,
   "id": "07647092",
   "metadata": {},
   "outputs": [],
   "source": [
    "# Lê o arquivo csv com o nome dos municípios\n",
    "df = pd.read_csv(\n",
    "    'https://raw.githubusercontent.com/michelmetran/sp_eda/main/data/tabs/tab_municipio_eda.csv',\n",
    ")\n",
    "\n",
    "# Lê o arquivo csv com o nome dos municípios\n",
    "gdf = gpd.read_file(\n",
    "    'https://raw.githubusercontent.com/michelmetran/sp/main/data/shps/sp_250k_wgs84.geojson',\n",
    ")\n",
    "gdf.drop(['municipio_nome'], axis=1, inplace=True)\n",
    "gdf['id_municipio'] = gdf['id_municipio'].astype(int)\n",
    "gdf['geometry'] = gdf.simplify(0.0015)\n",
    "\n",
    "# Merge\n",
    "gdf = gdf.merge(\n",
    "    df,\n",
    "    on='id_municipio',\n",
    "    how='left'\n",
    ")\n",
    "\n",
    "# Results\n",
    "gdf.head()"
   ]
  },
  {
   "cell_type": "markdown",
   "id": "1afa8606",
   "metadata": {},
   "source": [
    "<br>\n",
    "\n",
    "## Create pop up's column"
   ]
  },
  {
   "cell_type": "code",
   "execution_count": null,
   "id": "bb022010",
   "metadata": {},
   "outputs": [],
   "source": [
    "# Add Field\n",
    "def popup_html(row):\n",
    "    tel1 = str(row['tel_1']).replace('-', '').replace(')', '').replace('(', '+55').replace(' ', '')\n",
    "    tel2 = str(row['tel_2']).replace('-', '').replace(')', '').replace('(', '+55').replace(' ', '')\n",
    "    fax1 = str(row['fax_1']).replace('-', '').replace(')', '').replace('(', '+55').replace(' ', '')\n",
    "    fax2 = str(row['fax_2']).replace('-', '').replace(')', '').replace('(', '+55').replace(' ', '')\n",
    "    \n",
    "    html = \"\"\"\n",
    "    <div>\n",
    "    <p><b>{}</b> pertence à:\n",
    "    <h4><b>{}</b></h4></p>\n",
    "    \n",
    "    <p><b>Sede:</b><br>\n",
    "    {}<br>\n",
    "    {}\n",
    "    {}</p>\n",
    "    <p><b>Contatos:</b><br>\n",
    "    {}\n",
    "    {}\n",
    "    {}</p>\n",
    "    <p>{}</p>\n",
    "    </div>\n",
    "    \"\"\".format(\n",
    "        '' if pd.isnull(row['municipio_nome']) else '{}'.format(row['municipio_nome']),\n",
    "        '' if pd.isnull(row['unidaderegional']) else '{}'.format(row['unidaderegional']),\n",
    "        '' if pd.isnull(row['endereco'])       else '{}'.format(row['endereco']),\n",
    "        #'' if pd.isnull(row['numero'])         else ', {}'.format(row['numero']),\n",
    "        #'' if pd.isnull(row['complemento'])    else ' - {}'.format(row['complemento']),\n",
    "        #'' if pd.isnull(row['bairro'])         else 'Bairro: {}<br>'.format(row['bairro']),\n",
    "        '' if pd.isnull(row['municipio_sede']) else 'Município: {}<br>'.format(row['municipio_sede']),\n",
    "        '' if pd.isnull(row['cep'])            else 'CEP: {}<br>'.format(row['cep']),\n",
    "        # Contatos\n",
    "        '' if pd.isnull(row['tel_1'])          else 'Telefone: <a href=\"tel:{}\">{}</a><br>'.format(tel1, row['tel_1']),\n",
    "        '' if pd.isnull(row['fax_1'])            else 'Fax: <a href=\"tel:{}\">{}</a><br>'.format(fax1, row['fax_1']),\n",
    "        '' if pd.isnull(row['email'])          else 'E-mail: <a href=\"mailto:{}\">{}</a>'.format(row['email'], row['email']),\n",
    "        '' if pd.isnull(row['email'])          else '<a href=\"{}\" target=\"_blank\">Conferir Dados</a>'.format(row['url']),\n",
    "    )\n",
    "    \n",
    "    html = html.replace('\\n','')\n",
    "    html = re.sub('\\s\\s+' , ' ', html) # Remove Espaços no meio\n",
    "    html = html.strip()\n",
    "    return html"
   ]
  },
  {
   "cell_type": "code",
   "execution_count": null,
   "id": "8905bb95",
   "metadata": {},
   "outputs": [],
   "source": [
    "# Calculate PopUps\n",
    "gdf['popup'] = gdf.apply(popup_html, axis=1)"
   ]
  },
  {
   "cell_type": "markdown",
   "id": "e8cff84c",
   "metadata": {
    "tags": []
   },
   "source": [
    "<br>\n",
    "\n",
    "## Adjust Table"
   ]
  },
  {
   "cell_type": "code",
   "execution_count": null,
   "id": "7b0e31b7",
   "metadata": {
    "tags": []
   },
   "outputs": [],
   "source": [
    "# Delete Columns\n",
    "gdf.drop([\n",
    "    'id_municipio', 'endereco',\n",
    "    #'numero', 'bairro',\n",
    "    'municipio_sede', 'cep', 'tel_1', 'fax_1',\n",
    "    #'complemento', \n",
    "    'url', 'email',], axis=1, inplace=True)\n",
    "print(gdf.columns)"
   ]
  },
  {
   "cell_type": "code",
   "execution_count": null,
   "id": "bf73e28b",
   "metadata": {},
   "outputs": [],
   "source": [
    "# Save geojson\n",
    "gdf.to_file(\n",
    "    os.path.join('data', 'shps', 'sp_eda.geojson'),\n",
    "    driver='GeoJSON',\n",
    "    encoding='utf-8'\n",
    ")\n",
    "\n",
    "# Results\n",
    "gdf.head()"
   ]
  },
  {
   "cell_type": "markdown",
   "id": "a8b61866",
   "metadata": {},
   "source": [
    "## Get Centroid"
   ]
  },
  {
   "cell_type": "code",
   "execution_count": null,
   "id": "5cb26101",
   "metadata": {},
   "outputs": [],
   "source": [
    "def get_centroid(gdf):\n",
    "    gdf['apenasparacentroid'] = 35\n",
    "    gdf_dissolve = gdf.dissolve(by='apenasparacentroid')\n",
    "    gdf_centroid = gdf_dissolve.representative_point()\n",
    "    gdf = gdf.drop('apenasparacentroid', axis=1)\n",
    "    return [float(gdf_centroid.y), float(gdf_centroid.x)]"
   ]
  },
  {
   "cell_type": "code",
   "execution_count": null,
   "id": "deca8f04",
   "metadata": {},
   "outputs": [],
   "source": [
    "list_centroid = get_centroid(gdf)\n",
    "list_centroid"
   ]
  },
  {
   "cell_type": "markdown",
   "id": "8f0fd673",
   "metadata": {},
   "source": [
    "## Folium"
   ]
  },
  {
   "cell_type": "code",
   "execution_count": null,
   "id": "0b7a99e4",
   "metadata": {},
   "outputs": [],
   "source": [
    "def map_bomb(input_geojson, bbox):\n",
    "    gdf = gpd.read_file(input_geojson)\n",
    "    \n",
    "    # Column with category\n",
    "    col_categories = 'unidaderegional'\n",
    "    \n",
    "    # Set palette\n",
    "    palette_polygon = 'Paired'\n",
    "\n",
    "    # Get list of unique values\n",
    "    categories = set(gdf[col_categories])\n",
    "    categories = list(categories)\n",
    "    categories.sort()\n",
    "\n",
    "    # See the palette chosed\n",
    "    pal = sns.color_palette(palette_polygon, n_colors=len(categories))\n",
    "\n",
    "    # Set dictionary\n",
    "    color_polygon = dict(zip(categories, pal.as_hex()))\n",
    "    #color_polygon['Agência Ambiental de Ribeirão Preto'] = '#e699ff'\n",
    "    #color_polygon['Agência Ambiental de Barretos'] = '#4da6ff'\n",
    "    #color_polygon['Agência Ambiental de São Carlos'] = '#ff5050'\n",
    "    #color_polygon['Agência Ambiental de Osasco'] = '#00264d'\n",
    "\n",
    "    # Create Map\n",
    "    m = folium.Map(\n",
    "        location=[-22.545968889465207, -49.56185387118866],\n",
    "        zoom_start=6,\n",
    "        min_zoom=6,\n",
    "        max_zoom=11,\n",
    "        max_bounds=True,\n",
    "        min_lon = bbox['min_lon']*(101/100),\n",
    "        max_lon = bbox['max_lon']*(99/100),        \n",
    "        min_lat = bbox['min_lat']*(101/100),\n",
    "        max_lat = bbox['max_lat']*(99/100),\n",
    "        #zoom_delta=0.1,\n",
    "    )\n",
    "    folium.GeoJson(\n",
    "        gdf,\n",
    "        name='EDA',\n",
    "        smooth_factor=1.0,\n",
    "        zoom_on_click=False,\n",
    "        embed=False,\n",
    "        style_function=lambda x: {\n",
    "            'fillColor': color_polygon[x['properties'][col_categories]],\n",
    "            'color': color_polygon[x['properties'][col_categories]],\n",
    "            'weight': 1,\n",
    "            'fillOpacity': 0.3,\n",
    "        },\n",
    "        highlight_function=lambda x: {\n",
    "            'weight': 3,\n",
    "            'fillOpacity': 0.6,\n",
    "        },\n",
    "        tooltip=folium.features.GeoJsonTooltip(\n",
    "            fields=['municipio_nome', 'unidaderegional'],\n",
    "            aliases=['Munícipio', 'Unidade EDA'],\n",
    "            sticky=True,\n",
    "            opacity=0.9,\n",
    "            direction='right',\n",
    "        ),\n",
    "        popup=folium.GeoJsonPopup(\n",
    "            ['popup'],\n",
    "            parse_html=False,\n",
    "            max_width='400',\n",
    "            show=False,\n",
    "            labels=False,\n",
    "            sticky=True,            \n",
    "        )        \n",
    "    ).add_to(m)\n",
    "\n",
    "    # Plugins\n",
    "    m.fit_bounds(m.get_bounds())\n",
    "    plugins.Fullscreen(\n",
    "        position='topleft',\n",
    "        title='Clique para Maximizar',\n",
    "        title_cancel='Mininizar',\n",
    "    ).add_to(m)\n",
    "    return m"
   ]
  },
  {
   "cell_type": "code",
   "execution_count": null,
   "id": "67ad3143",
   "metadata": {},
   "outputs": [],
   "source": [
    "# Map without Bounds\n",
    "bbox = {\n",
    "    'max_lat': 0,\n",
    "    'max_lon': 0,\n",
    "    'min_lat': 0,\n",
    "    'min_lon': 0,\n",
    "}\n",
    "m = map_bomb(os.path.join('data', 'shps', 'sp_eda.geojson'), bbox)\n",
    "\n",
    "# Map with Bounds\n",
    "bbox = {\n",
    "    'max_lat': m.get_bounds()[1][0],\n",
    "    'min_lat': m.get_bounds()[0][0],\n",
    "    'max_lon': m.get_bounds()[1][1],\n",
    "    'min_lon': m.get_bounds()[0][1],\n",
    "}\n",
    "m = map_bomb(os.path.join('data', 'shps', 'sp_eda.geojson'), bbox)\n",
    "\n",
    "# Results\n",
    "print(bbox)\n",
    "m"
   ]
  },
  {
   "cell_type": "markdown",
   "id": "02c2a106",
   "metadata": {},
   "source": [
    "<br>\n",
    "\n",
    "# Save Map"
   ]
  },
  {
   "cell_type": "code",
   "execution_count": null,
   "id": "e2502920",
   "metadata": {},
   "outputs": [],
   "source": [
    "os.makedirs('maps', exist_ok=True)\n",
    "m.save(os.path.join('maps', 'eda_map.html'))\n",
    "m.save(os.path.join('..', '..', 'case_django', 'divadmin', 'templates', 'eda_map.html'))"
   ]
  },
  {
   "cell_type": "code",
   "execution_count": null,
   "id": "8417cd9f",
   "metadata": {},
   "outputs": [],
   "source": []
  }
 ],
 "metadata": {
  "kernelspec": {
   "display_name": "Python 3.10.6 ('pablocarreira-lastest')",
   "language": "python",
   "name": "python3"
  },
  "language_info": {
   "codemirror_mode": {
    "name": "ipython",
    "version": 3
   },
   "file_extension": ".py",
   "mimetype": "text/x-python",
   "name": "python",
   "nbconvert_exporter": "python",
   "pygments_lexer": "ipython3",
   "version": "3.10.6"
  },
  "toc-autonumbering": true,
  "vscode": {
   "interpreter": {
    "hash": "4fe01b1e548a48625e93ad3ec9d7217eaa82c8c5a1273b2b8580787b5d806f08"
   }
  }
 },
 "nbformat": 4,
 "nbformat_minor": 5
}
