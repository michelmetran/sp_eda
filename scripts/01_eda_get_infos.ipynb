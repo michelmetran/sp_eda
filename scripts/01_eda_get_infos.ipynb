{
 "cells": [
  {
   "cell_type": "markdown",
   "metadata": {},
   "source": [
    "<br>\n",
    "\n",
    "# Introdução"
   ]
  },
  {
   "cell_type": "code",
   "execution_count": null,
   "metadata": {},
   "outputs": [],
   "source": [
    "import os\n",
    "import requests\n",
    "import numpy as np\n",
    "import pandas as pd\n",
    "from bs4 import BeautifulSoup"
   ]
  },
  {
   "cell_type": "markdown",
   "metadata": {},
   "source": [
    "<br>\n",
    "\n",
    "# Get List Links"
   ]
  },
  {
   "cell_type": "code",
   "execution_count": null,
   "metadata": {},
   "outputs": [],
   "source": [
    "# Get Data\n",
    "url = 'https://www.defesa.agricultura.sp.gov.br/enderecos/'\n",
    "r = requests.get(url)\n",
    "soup = BeautifulSoup(r.content, 'html.parser')\n",
    "soup = soup.find('select',  attrs={'id': 'local_mun'})\n",
    "rows = soup.find_all('option')"
   ]
  },
  {
   "cell_type": "code",
   "execution_count": null,
   "metadata": {
    "tags": []
   },
   "outputs": [],
   "source": [
    "# Listas Vazias\n",
    "list_url = []\n",
    "list_name = []\n",
    "\n",
    "# Append as Listas\n",
    "for row in rows:    \n",
    "    list_name.append(row.get_text())\n",
    "    list_url.append(row['value'])\n",
    "\n",
    "# Lista de Tuplas\n",
    "list_tuples = list(zip(list_name, list_url))[1:]"
   ]
  },
  {
   "cell_type": "code",
   "execution_count": null,
   "metadata": {},
   "outputs": [],
   "source": [
    "# Convert to Dataframe\n",
    "df = pd.DataFrame(list_tuples, columns = ['municipio', 'url'])\n",
    "df['url'] = f\"{url}{df['url']}/\"\n",
    "\n",
    "# Fixed variable\n",
    "list_df_urls = df.iterrows()\n",
    "\n",
    "# Results\n",
    "df.head()"
   ]
  },
  {
   "cell_type": "markdown",
   "metadata": {},
   "source": [
    "<br>\n",
    "\n",
    "# Get Data for Município"
   ]
  },
  {
   "cell_type": "markdown",
   "metadata": {},
   "source": [
    "<br>\n",
    "\n",
    "## Function"
   ]
  },
  {
   "cell_type": "code",
   "execution_count": null,
   "metadata": {},
   "outputs": [],
   "source": [
    "def get_data(municipio, url):\n",
    "    # Get Data\n",
    "    #url = 'https://www.defesa.agricultura.sp.gov.br/enderecos/motuca'\n",
    "    r = requests.get(url)\n",
    "    soup = BeautifulSoup(r.content, 'lxml')\n",
    "    soup = soup.find('form',  attrs={'name': 'form2'}).find_next_sibling('div')\n",
    "\n",
    "    # List\n",
    "    list_data = soup.find('p').get_text().split('\\n')\n",
    "    dict_data = {\n",
    "        'municipio_nome': municipio,\n",
    "        'ida': soup.find('h2').text,\n",
    "        'endereco': ([x for x in list_data if x.startswith('Endereço:')] or [''])[0],\n",
    "        'municipio_sede': ([x for x in list_data if x.startswith('Município:')] or [''])[0],\n",
    "        'telefone': ([x for x in list_data if x.startswith('Telefone:')] or [''])[0],\n",
    "        'fax': ([x for x in list_data if x.startswith('Fax:')] or [''])[0],\n",
    "        'email': ([x for x in list_data if x.startswith('E-mail:')] or [''])[0],\n",
    "        'unidaderegional': ([x for x in list_data if x.startswith('Unidade Regional:')] or [''])[0],\n",
    "        'diretor': ([x for x in list_data if x.startswith('Diretor:')] or [''])[0].replace('\\r', ''),\n",
    "        'url': url,\n",
    "    }\n",
    "    return dict_data"
   ]
  },
  {
   "cell_type": "code",
   "execution_count": null,
   "metadata": {},
   "outputs": [],
   "source": [
    "url = 'https://www.defesa.agricultura.sp.gov.br/enderecos/pedra-bela/'\n",
    "get_data('Mombuca', url)"
   ]
  },
  {
   "cell_type": "markdown",
   "metadata": {},
   "source": [
    "<br>\n",
    "\n",
    "## Loop"
   ]
  },
  {
   "cell_type": "code",
   "execution_count": null,
   "metadata": {
    "tags": []
   },
   "outputs": [],
   "source": [
    "list_dicts = []\n",
    "for index, row in list_df_urls:\n",
    "    # Get values\n",
    "    municipio = row['municipio']\n",
    "    url = row['url']\n",
    "    print(f'>>>>> {url}')\n",
    "    print(f'{municipio} > {url}')\n",
    "\n",
    "    # Append\n",
    "    list_dicts.append(get_data(municipio, url))"
   ]
  },
  {
   "cell_type": "markdown",
   "metadata": {},
   "source": [
    "<br>\n",
    "\n",
    "# Create Dataframe"
   ]
  },
  {
   "cell_type": "code",
   "execution_count": null,
   "metadata": {},
   "outputs": [],
   "source": [
    "# Create dataframe\n",
    "df = pd.DataFrame(list_dicts)"
   ]
  },
  {
   "cell_type": "code",
   "execution_count": null,
   "metadata": {},
   "outputs": [],
   "source": [
    "# Divide Células em Duas Colunas\n",
    "df[['endereco','cep']] = df['endereco'].str.split('- CEP:', expand=True)\n",
    "df[['municipio_sede','estado']] = df['municipio_sede'].str.split('/', expand=True)\n",
    "df[['tel_1','tel_2']] = df['telefone'].str.split('/', expand=True)\n",
    "df[['fax_1','fax_2']] = df['fax'].str.split('/', expand=True)"
   ]
  },
  {
   "cell_type": "code",
   "execution_count": null,
   "metadata": {},
   "outputs": [],
   "source": [
    "# Remove tudo que vem antes do :\n",
    "df = df.applymap(lambda x: x.split(':')[-1], na_action='ignore')\n",
    "\n",
    "# Strip All Data\n",
    "df = df.applymap(lambda x: x.strip(), na_action='ignore')"
   ]
  },
  {
   "cell_type": "markdown",
   "metadata": {},
   "source": [
    "<br>\n",
    "\n",
    "## Rename"
   ]
  },
  {
   "cell_type": "code",
   "execution_count": null,
   "metadata": {},
   "outputs": [],
   "source": [
    "def rename_nome(x):\n",
    "    #x = x.title()\n",
    "    x = x.strip()\n",
    "    dict_rename = {\n",
    "        # Encoding\n",
    "        '  '  : ' ',\n",
    "\n",
    "        # Erros\n",
    "        '()'  : '',\n",
    "        'Av. '  : 'Avenida ',\n",
    "        'R. '  : 'Rua ',\n",
    "        \n",
    "        # Abreviações\n",
    "        'Mogi-Mirim' : 'Mogi Mirim',\n",
    "        's/nº': 's/n',\n",
    "        's/n°': 's/n',\n",
    "        's/n': 's/n',\n",
    "        'S/N' : 's/n',\n",
    "        'S/n' : 's/n',\n",
    "        's/n' : 's/n',\n",
    "        \n",
    "        ' nº ': ', ',\n",
    "        ', nº ': ', ',\n",
    "        ', ,': ',',\n",
    "        ',,': ',',\n",
    "\n",
    "        'EDA de ': 'Escritório de Defesa Agropecuária de ',\n",
    "\n",
    "        # \n",
    "        'RogÉrio': 'Rogério',\n",
    "        'JosÉ': 'José',\n",
    "        'CÉsar': 'César',\n",
    "        'MarÇal': 'Marçal',\n",
    "        'AdÃo': 'Adão',\n",
    "        'TristÃo': 'Tristão',\n",
    "        'ConceiÇÃo': 'Conceição',\n",
    "        \n",
    "        'Avednida ':'Avenida ',\n",
    "        'Av.25 de Janeiro':'Avenida 25 de Janeiro',\n",
    "        'Rua 13 de maio, 260': 'Rua 13 de Maio, 260',\n",
    "        ' Do ': ' do ',\n",
    "        'RUA FUAD EID,319': 'Rua Fuad Eid, 319',\n",
    "\n",
    "    }\n",
    "    for k, v in dict_rename.items():\n",
    "        x = x.replace(k, v)\n",
    "    x = x.replace('  ', ' ')\n",
    "    return x.strip()"
   ]
  },
  {
   "cell_type": "code",
   "execution_count": null,
   "metadata": {},
   "outputs": [],
   "source": [
    "# Rename\n",
    "df.loc[:, 'ida'] = df['ida'].astype(str).apply(lambda x: rename_nome(x))\n",
    "df.loc[:, 'endereco'] = df['endereco'].astype(str).apply(lambda x: rename_nome(x))\n",
    "df.loc[:, 'municipio_sede'] = df['municipio_sede'].astype(str).apply(lambda x: rename_nome(x))\n",
    "df.loc[:, 'tel_1'] = df['tel_1'].astype(str).apply(lambda x: rename_nome(x))\n",
    "df.loc[:, 'unidaderegional'] = df['unidaderegional'].astype(str).apply(lambda x: rename_nome(x))\n",
    "df.loc[:, 'diretor'] = df['diretor'].astype(str).apply(lambda x: rename_nome(x))"
   ]
  },
  {
   "cell_type": "code",
   "execution_count": null,
   "metadata": {},
   "outputs": [],
   "source": [
    "# Fix Municípios\n",
    "df['municipio_nome'] = df['municipio_nome'].replace('Embu', 'Embu das Artes').replace('Mogi-Mirim', 'Mogi Mirim')\n",
    "\n",
    "# Fix Telefone\n",
    "df['tel_1'] = df['tel_1'].replace('(11)', '').replace('(18)', '')"
   ]
  },
  {
   "cell_type": "markdown",
   "metadata": {},
   "source": [
    "<br>\n",
    "\n",
    "## Ajustes"
   ]
  },
  {
   "cell_type": "code",
   "execution_count": null,
   "metadata": {},
   "outputs": [],
   "source": [
    "# Adjust Error\n",
    "df.set_index('municipio_nome', inplace=True)\n",
    "df.loc['Pontes Gestal', 'ida'] = 'Unidade de Defesa Agropecuária de Pontes Gestal'\n",
    "df.reset_index(inplace=True)"
   ]
  },
  {
   "cell_type": "code",
   "execution_count": null,
   "metadata": {},
   "outputs": [],
   "source": [
    "# Preenche espaços em branco por NaN\n",
    "df.loc[:, 'unidaderegional'] = df['unidaderegional'].replace(r'^\\s*$', np.nan, regex=True)\n",
    "\n",
    "# Define máscara\n",
    "mask = df['unidaderegional'].isnull()\n",
    "\n",
    "# Para os que estão em branco, define que é igual ao ida\n",
    "df.loc[mask, 'unidaderegional'] = df['ida']"
   ]
  },
  {
   "cell_type": "markdown",
   "metadata": {},
   "source": [
    "<br>\n",
    "\n",
    "## Join Municípios"
   ]
  },
  {
   "cell_type": "code",
   "execution_count": null,
   "metadata": {},
   "outputs": [],
   "source": [
    "# Lê o arquivo csv com o nome dos municípios\n",
    "df_mun = pd.read_csv(\n",
    "    'https://raw.githubusercontent.com/michelmetran/sp/main/data/tabs/tab_municipio_nome.csv',\n",
    "    usecols=['id_municipio', 'municipio_nome']\n",
    ")\n",
    "\n",
    "# Merge\n",
    "df = pd.merge(\n",
    "    df_mun,\n",
    "    df,\n",
    "    how='left',\n",
    "    left_on='municipio_nome',\n",
    "    right_on='municipio_nome'\n",
    ")\n",
    "\n",
    "# Resultados\n",
    "df.head()"
   ]
  },
  {
   "cell_type": "markdown",
   "metadata": {},
   "source": [
    "<br>\n",
    "\n",
    "## Ordena Colunas"
   ]
  },
  {
   "cell_type": "code",
   "execution_count": null,
   "metadata": {},
   "outputs": [],
   "source": [
    "print(list(df.columns))\n",
    "\n",
    "df = df[[\n",
    "    'id_municipio',\n",
    "    'municipio_nome',\n",
    "    'ida',\n",
    "    'endereco',\n",
    "    'cep',\n",
    "    'municipio_sede',\n",
    "    'tel_1',\n",
    "    'tel_2',\n",
    "    'fax_1',\n",
    "    'fax_2',\n",
    "    'email',\n",
    "    'unidaderegional',\n",
    "    'diretor',\n",
    "    'url',\n",
    "]]"
   ]
  },
  {
   "cell_type": "markdown",
   "metadata": {},
   "source": [
    "<br>\n",
    "\n",
    "# Salva"
   ]
  },
  {
   "cell_type": "code",
   "execution_count": null,
   "metadata": {},
   "outputs": [],
   "source": [
    "from paths import *"
   ]
  },
  {
   "cell_type": "code",
   "execution_count": null,
   "metadata": {},
   "outputs": [],
   "source": [
    "# Results\n",
    "df.to_csv(\n",
    "    os.path.join(output_path_tabs, 'tab_municipio_eda.csv'),\n",
    "    index=False\n",
    ")"
   ]
  },
  {
   "cell_type": "code",
   "execution_count": null,
   "metadata": {},
   "outputs": [],
   "source": []
  }
 ],
 "metadata": {
  "kernelspec": {
   "display_name": "Python 3.9.13 ('pablocarreira-py39')",
   "language": "python",
   "name": "python3"
  },
  "language_info": {
   "codemirror_mode": {
    "name": "ipython",
    "version": 3
   },
   "file_extension": ".py",
   "mimetype": "text/x-python",
   "name": "python",
   "nbconvert_exporter": "python",
   "pygments_lexer": "ipython3",
   "version": "3.9.13"
  },
  "vscode": {
   "interpreter": {
    "hash": "397a8db9a99587ebc9659e575e97c3dbc03b7cdbd9bc181d706cc19eab1087ed"
   }
  }
 },
 "nbformat": 4,
 "nbformat_minor": 4
}
